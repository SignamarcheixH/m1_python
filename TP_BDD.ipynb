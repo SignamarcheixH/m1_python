{
 "cells": [
  {
   "cell_type": "markdown",
   "metadata": {},
   "source": [
    "### Question 1 : Lister les tables présente dans le fichier chinook.db\n",
    "On fait .tables\n",
    "\n",
    "### Question 2 : Lister les tables se terminant par 's'\n",
    "On fait .table '%s'\n",
    "\n",
    "### Question 3 : Visualiser la construction de la table 'albums'\n",
    "On fait .schema albums\n",
    "\n",
    "### Question 4 : Visualiser la construction de toutes les tables\n",
    "On fait .fullschema\n",
    "\n",
    "### Question 5 : Toutes les occurrences de la table TRACKS\n",
    "On fait SELECT * FROM tracks;\n",
    "\n",
    "### Question 6 : 10 premiers 'albumID' de la table albums ordonné par 'artistID'\n",
    "On fait SELECT albumID FROM albums ORDER BY artistID LIMIT 10;\n",
    "\n",
    "### Question 7 :  10 premiers nom de la table tracks ordonné par 'albumid'\n",
    "On fait SELECT name FROM tracks ORDER BY albumID LIMIT 10;\n",
    "\n",
    "### Question 8 : 10 premiers nom de la table tracks ou 'albumid' = 1\n",
    "On fait SELECT name FROM tracks WHERE albumID=1 LIMIT 10;\n",
    "\n",
    "### Question 9 : 10 premiers nom de la table tracks ou 'albumid' = 1 et la durée du son est > 252980 ms\n",
    "On fait SELECT name FROM tracks WHERE albumID=1 AND milliseconds>252980 LIMIT 10;\n",
    "\n",
    "### Question 10 : 10 premiers nom de la table tracks ou le 'type media' est 1 et/ou 2 ordonné par nom de tracks\n",
    "On fait SELECT name FROM tracks WHERE MediaTypeId IN (1, 2) ORDER BY name LIMIT 10;\n",
    "\n",
    "### Question 11 : les artistes, les ID de ces artistes et les ID des albums (de la table artiste) tel que les ID des artistes soit les mêmes que les ID de leurs albums. Tout cela ordonné par ID album.\n",
    "On fait SELECT artist, artists.artistID, albumID FROM artist INNER JOIN albums ON artists.artistID = albums.albumID;\n"
   ]
  }
 ],
 "metadata": {
  "kernelspec": {
   "display_name": "Python 3",
   "language": "python",
   "name": "python3"
  },
  "language_info": {
   "codemirror_mode": {
    "name": "ipython",
    "version": 3
   },
   "file_extension": ".py",
   "mimetype": "text/x-python",
   "name": "python",
   "nbconvert_exporter": "python",
   "pygments_lexer": "ipython3",
   "version": "3.7.6"
  }
 },
 "nbformat": 4,
 "nbformat_minor": 2
}
